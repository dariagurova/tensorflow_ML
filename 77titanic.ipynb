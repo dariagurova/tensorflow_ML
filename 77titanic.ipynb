{
  "nbformat": 4,
  "nbformat_minor": 0,
  "metadata": {
    "colab": {
      "name": "77titanic.ipynb",
      "version": "0.3.2",
      "views": {},
      "default_view": {},
      "provenance": [
        {
          "file_id": "1a3-OFC8WAVxIQYEnmSRfpQLm3umXjxbi",
          "timestamp": 1522970301308
        },
        {
          "file_id": "1gC4JjAP_XlkAQGvgXIbPZfXYyv8NoKGj",
          "timestamp": 1522951225904
        }
      ],
      "collapsed_sections": []
    },
    "kernelspec": {
      "name": "python3",
      "display_name": "Python 3"
    }
  },
  "cells": [
    {
      "metadata": {
        "id": "zP82flHs-RdM",
        "colab_type": "code",
        "colab": {
          "autoexec": {
            "startup": false,
            "wait_interval": 0
          },
          "base_uri": "https://localhost:8080/",
          "height": 34
        },
        "outputId": "006984bf-aaa8-4707-f9f8-ad61b0755509",
        "executionInfo": {
          "status": "ok",
          "timestamp": 1522988121113,
          "user_tz": 420,
          "elapsed": 2371,
          "user": {
            "displayName": "Дарья Гурова",
            "photoUrl": "//lh4.googleusercontent.com/-_Dn6yogdLX0/AAAAAAAAAAI/AAAAAAAAADg/_KHG3tU8CMY/s50-c-k-no/photo.jpg",
            "userId": "106480726780023275957"
          }
        }
      },
      "cell_type": "code",
      "source": [
        "!ls ~/my_drive/kaggle/"
      ],
      "execution_count": 23,
      "outputs": [
        {
          "output_type": "stream",
          "text": [
            "predict.csv  results1.csv  results2.csv  test.csv  train.csv\r\n"
          ],
          "name": "stdout"
        }
      ]
    },
    {
      "metadata": {
        "id": "uMtrYBMpOneZ",
        "colab_type": "code",
        "colab": {
          "autoexec": {
            "startup": false,
            "wait_interval": 0
          },
          "base_uri": "https://localhost:8080/",
          "height": 725
        },
        "outputId": "e13ace79-1c57-47cc-9c46-7ac9781af53a",
        "executionInfo": {
          "status": "ok",
          "timestamp": 1522988121446,
          "user_tz": 420,
          "elapsed": 311,
          "user": {
            "displayName": "Дарья Гурова",
            "photoUrl": "//lh4.googleusercontent.com/-_Dn6yogdLX0/AAAAAAAAAAI/AAAAAAAAADg/_KHG3tU8CMY/s50-c-k-no/photo.jpg",
            "userId": "106480726780023275957"
          }
        }
      },
      "cell_type": "code",
      "source": [
        "import math\n",
        "\n",
        "from IPython import display\n",
        "from matplotlib import cm\n",
        "from matplotlib import gridspec\n",
        "import matplotlib.pyplot as plt\n",
        "import numpy as np\n",
        "import pandas as pd\n",
        "import sklearn.metrics as metrics\n",
        "import tensorflow as tf\n",
        "from tensorflow.python.data import Dataset\n",
        "\n",
        "tf.logging.set_verbosity(tf.logging.ERROR)\n",
        "pd.options.display.max_rows = 20\n",
        "pd.options.display.float_format = '{:.1f}'.format\n",
        "\n",
        "titanic_test = pd.read_csv('/content/my_drive/kaggle/test.csv')\n",
        "titanic_train = pd.read_csv('/content/my_drive/kaggle/train.csv')\n",
        "titanic_train = titanic_train.reindex(\n",
        "    np.random.permutation(titanic_train.index))\n",
        "#titanic_test = titanic_test.reindex(np.random.permutation(titanic_test.index))\n",
        "titanic_train"
      ],
      "execution_count": 24,
      "outputs": [
        {
          "output_type": "execute_result",
          "data": {
            "text/html": [
              "<div>\n",
              "<style scoped>\n",
              "    .dataframe tbody tr th:only-of-type {\n",
              "        vertical-align: middle;\n",
              "    }\n",
              "\n",
              "    .dataframe tbody tr th {\n",
              "        vertical-align: top;\n",
              "    }\n",
              "\n",
              "    .dataframe thead th {\n",
              "        text-align: right;\n",
              "    }\n",
              "</style>\n",
              "<table border=\"1\" class=\"dataframe\">\n",
              "  <thead>\n",
              "    <tr style=\"text-align: right;\">\n",
              "      <th></th>\n",
              "      <th>PassengerId</th>\n",
              "      <th>Survived</th>\n",
              "      <th>Pclass</th>\n",
              "      <th>Name</th>\n",
              "      <th>Sex</th>\n",
              "      <th>Age</th>\n",
              "      <th>SibSp</th>\n",
              "      <th>Parch</th>\n",
              "      <th>Ticket</th>\n",
              "      <th>Fare</th>\n",
              "      <th>Cabin</th>\n",
              "      <th>Embarked</th>\n",
              "    </tr>\n",
              "  </thead>\n",
              "  <tbody>\n",
              "    <tr>\n",
              "      <th>51</th>\n",
              "      <td>52</td>\n",
              "      <td>0</td>\n",
              "      <td>3</td>\n",
              "      <td>Nosworthy, Mr. Richard Cater</td>\n",
              "      <td>male</td>\n",
              "      <td>21.0</td>\n",
              "      <td>0</td>\n",
              "      <td>0</td>\n",
              "      <td>A/4. 39886</td>\n",
              "      <td>7.8</td>\n",
              "      <td>NaN</td>\n",
              "      <td>S</td>\n",
              "    </tr>\n",
              "    <tr>\n",
              "      <th>299</th>\n",
              "      <td>300</td>\n",
              "      <td>1</td>\n",
              "      <td>1</td>\n",
              "      <td>Baxter, Mrs. James (Helene DeLaudeniere Chaput)</td>\n",
              "      <td>female</td>\n",
              "      <td>50.0</td>\n",
              "      <td>0</td>\n",
              "      <td>1</td>\n",
              "      <td>PC 17558</td>\n",
              "      <td>247.5</td>\n",
              "      <td>B58 B60</td>\n",
              "      <td>C</td>\n",
              "    </tr>\n",
              "    <tr>\n",
              "      <th>867</th>\n",
              "      <td>868</td>\n",
              "      <td>0</td>\n",
              "      <td>1</td>\n",
              "      <td>Roebling, Mr. Washington Augustus II</td>\n",
              "      <td>male</td>\n",
              "      <td>31.0</td>\n",
              "      <td>0</td>\n",
              "      <td>0</td>\n",
              "      <td>PC 17590</td>\n",
              "      <td>50.5</td>\n",
              "      <td>A24</td>\n",
              "      <td>S</td>\n",
              "    </tr>\n",
              "    <tr>\n",
              "      <th>536</th>\n",
              "      <td>537</td>\n",
              "      <td>0</td>\n",
              "      <td>1</td>\n",
              "      <td>Butt, Major. Archibald Willingham</td>\n",
              "      <td>male</td>\n",
              "      <td>45.0</td>\n",
              "      <td>0</td>\n",
              "      <td>0</td>\n",
              "      <td>113050</td>\n",
              "      <td>26.6</td>\n",
              "      <td>B38</td>\n",
              "      <td>S</td>\n",
              "    </tr>\n",
              "    <tr>\n",
              "      <th>26</th>\n",
              "      <td>27</td>\n",
              "      <td>0</td>\n",
              "      <td>3</td>\n",
              "      <td>Emir, Mr. Farred Chehab</td>\n",
              "      <td>male</td>\n",
              "      <td>nan</td>\n",
              "      <td>0</td>\n",
              "      <td>0</td>\n",
              "      <td>2631</td>\n",
              "      <td>7.2</td>\n",
              "      <td>NaN</td>\n",
              "      <td>C</td>\n",
              "    </tr>\n",
              "    <tr>\n",
              "      <th>663</th>\n",
              "      <td>664</td>\n",
              "      <td>0</td>\n",
              "      <td>3</td>\n",
              "      <td>Coleff, Mr. Peju</td>\n",
              "      <td>male</td>\n",
              "      <td>36.0</td>\n",
              "      <td>0</td>\n",
              "      <td>0</td>\n",
              "      <td>349210</td>\n",
              "      <td>7.5</td>\n",
              "      <td>NaN</td>\n",
              "      <td>S</td>\n",
              "    </tr>\n",
              "    <tr>\n",
              "      <th>295</th>\n",
              "      <td>296</td>\n",
              "      <td>0</td>\n",
              "      <td>1</td>\n",
              "      <td>Lewy, Mr. Ervin G</td>\n",
              "      <td>male</td>\n",
              "      <td>nan</td>\n",
              "      <td>0</td>\n",
              "      <td>0</td>\n",
              "      <td>PC 17612</td>\n",
              "      <td>27.7</td>\n",
              "      <td>NaN</td>\n",
              "      <td>C</td>\n",
              "    </tr>\n",
              "    <tr>\n",
              "      <th>225</th>\n",
              "      <td>226</td>\n",
              "      <td>0</td>\n",
              "      <td>3</td>\n",
              "      <td>Berglund, Mr. Karl Ivar Sven</td>\n",
              "      <td>male</td>\n",
              "      <td>22.0</td>\n",
              "      <td>0</td>\n",
              "      <td>0</td>\n",
              "      <td>PP 4348</td>\n",
              "      <td>9.3</td>\n",
              "      <td>NaN</td>\n",
              "      <td>S</td>\n",
              "    </tr>\n",
              "    <tr>\n",
              "      <th>799</th>\n",
              "      <td>800</td>\n",
              "      <td>0</td>\n",
              "      <td>3</td>\n",
              "      <td>Van Impe, Mrs. Jean Baptiste (Rosalie Paula Go...</td>\n",
              "      <td>female</td>\n",
              "      <td>30.0</td>\n",
              "      <td>1</td>\n",
              "      <td>1</td>\n",
              "      <td>345773</td>\n",
              "      <td>24.1</td>\n",
              "      <td>NaN</td>\n",
              "      <td>S</td>\n",
              "    </tr>\n",
              "    <tr>\n",
              "      <th>52</th>\n",
              "      <td>53</td>\n",
              "      <td>1</td>\n",
              "      <td>1</td>\n",
              "      <td>Harper, Mrs. Henry Sleeper (Myna Haxtun)</td>\n",
              "      <td>female</td>\n",
              "      <td>49.0</td>\n",
              "      <td>1</td>\n",
              "      <td>0</td>\n",
              "      <td>PC 17572</td>\n",
              "      <td>76.7</td>\n",
              "      <td>D33</td>\n",
              "      <td>C</td>\n",
              "    </tr>\n",
              "    <tr>\n",
              "      <th>...</th>\n",
              "      <td>...</td>\n",
              "      <td>...</td>\n",
              "      <td>...</td>\n",
              "      <td>...</td>\n",
              "      <td>...</td>\n",
              "      <td>...</td>\n",
              "      <td>...</td>\n",
              "      <td>...</td>\n",
              "      <td>...</td>\n",
              "      <td>...</td>\n",
              "      <td>...</td>\n",
              "      <td>...</td>\n",
              "    </tr>\n",
              "    <tr>\n",
              "      <th>108</th>\n",
              "      <td>109</td>\n",
              "      <td>0</td>\n",
              "      <td>3</td>\n",
              "      <td>Rekic, Mr. Tido</td>\n",
              "      <td>male</td>\n",
              "      <td>38.0</td>\n",
              "      <td>0</td>\n",
              "      <td>0</td>\n",
              "      <td>349249</td>\n",
              "      <td>7.9</td>\n",
              "      <td>NaN</td>\n",
              "      <td>S</td>\n",
              "    </tr>\n",
              "    <tr>\n",
              "      <th>128</th>\n",
              "      <td>129</td>\n",
              "      <td>1</td>\n",
              "      <td>3</td>\n",
              "      <td>Peter, Miss. Anna</td>\n",
              "      <td>female</td>\n",
              "      <td>nan</td>\n",
              "      <td>1</td>\n",
              "      <td>1</td>\n",
              "      <td>2668</td>\n",
              "      <td>22.4</td>\n",
              "      <td>F E69</td>\n",
              "      <td>C</td>\n",
              "    </tr>\n",
              "    <tr>\n",
              "      <th>152</th>\n",
              "      <td>153</td>\n",
              "      <td>0</td>\n",
              "      <td>3</td>\n",
              "      <td>Meo, Mr. Alfonzo</td>\n",
              "      <td>male</td>\n",
              "      <td>55.5</td>\n",
              "      <td>0</td>\n",
              "      <td>0</td>\n",
              "      <td>A.5. 11206</td>\n",
              "      <td>8.1</td>\n",
              "      <td>NaN</td>\n",
              "      <td>S</td>\n",
              "    </tr>\n",
              "    <tr>\n",
              "      <th>245</th>\n",
              "      <td>246</td>\n",
              "      <td>0</td>\n",
              "      <td>1</td>\n",
              "      <td>Minahan, Dr. William Edward</td>\n",
              "      <td>male</td>\n",
              "      <td>44.0</td>\n",
              "      <td>2</td>\n",
              "      <td>0</td>\n",
              "      <td>19928</td>\n",
              "      <td>90.0</td>\n",
              "      <td>C78</td>\n",
              "      <td>Q</td>\n",
              "    </tr>\n",
              "    <tr>\n",
              "      <th>730</th>\n",
              "      <td>731</td>\n",
              "      <td>1</td>\n",
              "      <td>1</td>\n",
              "      <td>Allen, Miss. Elisabeth Walton</td>\n",
              "      <td>female</td>\n",
              "      <td>29.0</td>\n",
              "      <td>0</td>\n",
              "      <td>0</td>\n",
              "      <td>24160</td>\n",
              "      <td>211.3</td>\n",
              "      <td>B5</td>\n",
              "      <td>S</td>\n",
              "    </tr>\n",
              "    <tr>\n",
              "      <th>190</th>\n",
              "      <td>191</td>\n",
              "      <td>1</td>\n",
              "      <td>2</td>\n",
              "      <td>Pinsky, Mrs. (Rosa)</td>\n",
              "      <td>female</td>\n",
              "      <td>32.0</td>\n",
              "      <td>0</td>\n",
              "      <td>0</td>\n",
              "      <td>234604</td>\n",
              "      <td>13.0</td>\n",
              "      <td>NaN</td>\n",
              "      <td>S</td>\n",
              "    </tr>\n",
              "    <tr>\n",
              "      <th>602</th>\n",
              "      <td>603</td>\n",
              "      <td>0</td>\n",
              "      <td>1</td>\n",
              "      <td>Harrington, Mr. Charles H</td>\n",
              "      <td>male</td>\n",
              "      <td>nan</td>\n",
              "      <td>0</td>\n",
              "      <td>0</td>\n",
              "      <td>113796</td>\n",
              "      <td>42.4</td>\n",
              "      <td>NaN</td>\n",
              "      <td>S</td>\n",
              "    </tr>\n",
              "    <tr>\n",
              "      <th>395</th>\n",
              "      <td>396</td>\n",
              "      <td>0</td>\n",
              "      <td>3</td>\n",
              "      <td>Johansson, Mr. Erik</td>\n",
              "      <td>male</td>\n",
              "      <td>22.0</td>\n",
              "      <td>0</td>\n",
              "      <td>0</td>\n",
              "      <td>350052</td>\n",
              "      <td>7.8</td>\n",
              "      <td>NaN</td>\n",
              "      <td>S</td>\n",
              "    </tr>\n",
              "    <tr>\n",
              "      <th>76</th>\n",
              "      <td>77</td>\n",
              "      <td>0</td>\n",
              "      <td>3</td>\n",
              "      <td>Staneff, Mr. Ivan</td>\n",
              "      <td>male</td>\n",
              "      <td>nan</td>\n",
              "      <td>0</td>\n",
              "      <td>0</td>\n",
              "      <td>349208</td>\n",
              "      <td>7.9</td>\n",
              "      <td>NaN</td>\n",
              "      <td>S</td>\n",
              "    </tr>\n",
              "    <tr>\n",
              "      <th>416</th>\n",
              "      <td>417</td>\n",
              "      <td>1</td>\n",
              "      <td>2</td>\n",
              "      <td>Drew, Mrs. James Vivian (Lulu Thorne Christian)</td>\n",
              "      <td>female</td>\n",
              "      <td>34.0</td>\n",
              "      <td>1</td>\n",
              "      <td>1</td>\n",
              "      <td>28220</td>\n",
              "      <td>32.5</td>\n",
              "      <td>NaN</td>\n",
              "      <td>S</td>\n",
              "    </tr>\n",
              "  </tbody>\n",
              "</table>\n",
              "<p>891 rows × 12 columns</p>\n",
              "</div>"
            ],
            "text/plain": [
              "     PassengerId  Survived  Pclass  \\\n",
              "51            52         0       3   \n",
              "299          300         1       1   \n",
              "867          868         0       1   \n",
              "536          537         0       1   \n",
              "26            27         0       3   \n",
              "663          664         0       3   \n",
              "295          296         0       1   \n",
              "225          226         0       3   \n",
              "799          800         0       3   \n",
              "52            53         1       1   \n",
              "..           ...       ...     ...   \n",
              "108          109         0       3   \n",
              "128          129         1       3   \n",
              "152          153         0       3   \n",
              "245          246         0       1   \n",
              "730          731         1       1   \n",
              "190          191         1       2   \n",
              "602          603         0       1   \n",
              "395          396         0       3   \n",
              "76            77         0       3   \n",
              "416          417         1       2   \n",
              "\n",
              "                                                  Name     Sex  Age  SibSp  \\\n",
              "51                        Nosworthy, Mr. Richard Cater    male 21.0      0   \n",
              "299    Baxter, Mrs. James (Helene DeLaudeniere Chaput)  female 50.0      0   \n",
              "867               Roebling, Mr. Washington Augustus II    male 31.0      0   \n",
              "536                  Butt, Major. Archibald Willingham    male 45.0      0   \n",
              "26                             Emir, Mr. Farred Chehab    male  nan      0   \n",
              "663                                   Coleff, Mr. Peju    male 36.0      0   \n",
              "295                                  Lewy, Mr. Ervin G    male  nan      0   \n",
              "225                       Berglund, Mr. Karl Ivar Sven    male 22.0      0   \n",
              "799  Van Impe, Mrs. Jean Baptiste (Rosalie Paula Go...  female 30.0      1   \n",
              "52            Harper, Mrs. Henry Sleeper (Myna Haxtun)  female 49.0      1   \n",
              "..                                                 ...     ...  ...    ...   \n",
              "108                                    Rekic, Mr. Tido    male 38.0      0   \n",
              "128                                  Peter, Miss. Anna  female  nan      1   \n",
              "152                                   Meo, Mr. Alfonzo    male 55.5      0   \n",
              "245                        Minahan, Dr. William Edward    male 44.0      2   \n",
              "730                      Allen, Miss. Elisabeth Walton  female 29.0      0   \n",
              "190                                Pinsky, Mrs. (Rosa)  female 32.0      0   \n",
              "602                          Harrington, Mr. Charles H    male  nan      0   \n",
              "395                                Johansson, Mr. Erik    male 22.0      0   \n",
              "76                                   Staneff, Mr. Ivan    male  nan      0   \n",
              "416    Drew, Mrs. James Vivian (Lulu Thorne Christian)  female 34.0      1   \n",
              "\n",
              "     Parch      Ticket  Fare    Cabin Embarked  \n",
              "51       0  A/4. 39886   7.8      NaN        S  \n",
              "299      1    PC 17558 247.5  B58 B60        C  \n",
              "867      0    PC 17590  50.5      A24        S  \n",
              "536      0      113050  26.6      B38        S  \n",
              "26       0        2631   7.2      NaN        C  \n",
              "663      0      349210   7.5      NaN        S  \n",
              "295      0    PC 17612  27.7      NaN        C  \n",
              "225      0     PP 4348   9.3      NaN        S  \n",
              "799      1      345773  24.1      NaN        S  \n",
              "52       0    PC 17572  76.7      D33        C  \n",
              "..     ...         ...   ...      ...      ...  \n",
              "108      0      349249   7.9      NaN        S  \n",
              "128      1        2668  22.4    F E69        C  \n",
              "152      0  A.5. 11206   8.1      NaN        S  \n",
              "245      0       19928  90.0      C78        Q  \n",
              "730      0       24160 211.3       B5        S  \n",
              "190      0      234604  13.0      NaN        S  \n",
              "602      0      113796  42.4      NaN        S  \n",
              "395      0      350052   7.8      NaN        S  \n",
              "76       0      349208   7.9      NaN        S  \n",
              "416      1       28220  32.5      NaN        S  \n",
              "\n",
              "[891 rows x 12 columns]"
            ]
          },
          "metadata": {
            "tags": []
          },
          "execution_count": 24
        }
      ]
    },
    {
      "metadata": {
        "id": "OIcFuzuFxiU8",
        "colab_type": "code",
        "colab": {
          "autoexec": {
            "startup": false,
            "wait_interval": 0
          }
        }
      },
      "cell_type": "code",
      "source": [
        ""
      ],
      "execution_count": 0,
      "outputs": []
    },
    {
      "metadata": {
        "id": "5Z_QZe0sCOtc",
        "colab_type": "code",
        "colab": {
          "autoexec": {
            "startup": false,
            "wait_interval": 0
          },
          "base_uri": "https://localhost:8080/",
          "height": 394
        },
        "outputId": "83849b95-811a-4d0c-ae12-4f2e20598594",
        "executionInfo": {
          "status": "ok",
          "timestamp": 1522991330718,
          "user_tz": 420,
          "elapsed": 277,
          "user": {
            "displayName": "Дарья Гурова",
            "photoUrl": "//lh4.googleusercontent.com/-_Dn6yogdLX0/AAAAAAAAAAI/AAAAAAAAADg/_KHG3tU8CMY/s50-c-k-no/photo.jpg",
            "userId": "106480726780023275957"
          }
        }
      },
      "cell_type": "code",
      "source": [
        "# combine test and train datasets to get the mean values of the total dataset\n",
        "all_data = pd.concat([titanic_train, titanic_test])\n",
        "\n",
        "\n",
        "mean_male = all_data[all_data[\"Sex\"]==\"male\"][\"Age\"].mean()\n",
        "mean_female = all_data[all_data[\"Sex\"]==\"female\"][\"Age\"].mean()\n",
        "print (\"female mean age: %1.0f\" %mean_female )\n",
        "print (\"male mean age: %1.0f\" %mean_male )\n",
        "\n",
        " \n",
        "mean_fare = all_data[\"Fare\"].mean()\n",
        "all_data[\"Fare\"] = all_data[\"Fare\"].fillna(mean_fare)\n",
        "titanic_test[\"Fare\"] = titanic_test[\"Fare\"].fillna(mean_fare)\n",
        "\n",
        "titanic_train[\"Embarked\"] = titanic_train[\"Embarked\"].fillna(\"S\")\n",
        "titanic_test[\"Embarked\"] = titanic_test[\"Embarked\"].fillna(\"S\")\n",
        "\n",
        "titanic_train.loc[ (titanic_train[\"Sex\"]==\"male\") & (titanic_train[\"Age\"].isnull()), \"Age\"] = mean_male\n",
        "titanic_train.loc[ (titanic_train[\"Sex\"]==\"female\") & (titanic_train[\"Age\"].isnull()), \"Age\"] = mean_female\n",
        "\n",
        "titanic_test.loc[ (titanic_test[\"Sex\"]==\"male\") & (titanic_test[\"Age\"].isnull()), \"Age\"] = mean_male\n",
        "titanic_test.loc[ (titanic_test[\"Sex\"]==\"female\") & (titanic_test[\"Age\"].isnull()), \"Age\"] = mean_female\n",
        "\n",
        "def get_title(name):\n",
        "    if '.' in name:\n",
        "        return name.split(',')[1].split('.')[0].strip()\n",
        "    else:\n",
        "        return 'Unknown'\n",
        "      \n",
        "all_data[\"Title\"]=all_data[\"Name\"].apply(get_title)\n",
        "all_data.groupby(['Title']).size()\n",
        "titanic_test[\"Title\"]=titanic_test[\"Name\"].apply(get_title)\n",
        "titanic_train[\"Title\"]=titanic_train[\"Name\"].apply(get_title)\n",
        "all_data.groupby(['Title']).size()"
      ],
      "execution_count": 82,
      "outputs": [
        {
          "output_type": "stream",
          "text": [
            "female mean age: 29\n",
            "male mean age: 31\n"
          ],
          "name": "stdout"
        },
        {
          "output_type": "execute_result",
          "data": {
            "text/plain": [
              "Title\n",
              "Capt              1\n",
              "Col               4\n",
              "Don               1\n",
              "Dona              1\n",
              "Dr                8\n",
              "Jonkheer          1\n",
              "Lady              1\n",
              "Major             2\n",
              "Master           61\n",
              "Miss            260\n",
              "Mlle              2\n",
              "Mme               1\n",
              "Mr              757\n",
              "Mrs             197\n",
              "Ms                2\n",
              "Rev               8\n",
              "Sir               1\n",
              "the Countess      1\n",
              "dtype: int64"
            ]
          },
          "metadata": {
            "tags": []
          },
          "execution_count": 82
        }
      ]
    },
    {
      "metadata": {
        "id": "iyGjKw-HKOVK",
        "colab_type": "code",
        "colab": {
          "autoexec": {
            "startup": false,
            "wait_interval": 0
          }
        }
      },
      "cell_type": "code",
      "source": [
        "\n",
        "def build_feature_columns():\n",
        "  Age = tf.feature_column.numeric_column(\"Age\")\n",
        "  Fare = tf.feature_column.numeric_column(\"Fare\")\n",
        "  Sex = tf.feature_column.categorical_column_with_vocabulary_list(\"Sex\",[\"female\", \"male\"])\n",
        "  Pclass = tf.feature_column.categorical_column_with_vocabulary_list(\"Pclass\",[1,2,3])\n",
        "  Title = tf.feature_column.categorical_column_with_hash_bucket(\"Title\", 19)\n",
        "  #Embarked =tf.feature_column.categorical_column_with_vocabulary_list(\"Embarked\",[\"Q\", \"S\",\"C\"])\n",
        "  age_bucket = tf.feature_column.bucketized_column(Age,[6,12,21,30,60])\n",
        "  #Pclass_x_Sex = tf.feature_column.crossed_column([Pclass, Sex], 10)\n",
        "  \n",
        "  processed_features = [Sex, Pclass, Title, Fare]\n",
        "  return processed_features\n",
        "  "
      ],
      "execution_count": 0,
      "outputs": []
    },
    {
      "metadata": {
        "id": "GRWKoYFZ1RBV",
        "colab_type": "code",
        "colab": {
          "autoexec": {
            "startup": false,
            "wait_interval": 0
          },
          "base_uri": "https://localhost:8080/",
          "height": 325
        },
        "outputId": "b0ea3e20-ccf7-40c8-e2e9-5e0461e1abcb",
        "executionInfo": {
          "status": "ok",
          "timestamp": 1522991496542,
          "user_tz": 420,
          "elapsed": 257,
          "user": {
            "displayName": "Дарья Гурова",
            "photoUrl": "//lh4.googleusercontent.com/-_Dn6yogdLX0/AAAAAAAAAAI/AAAAAAAAADg/_KHG3tU8CMY/s50-c-k-no/photo.jpg",
            "userId": "106480726780023275957"
          }
        }
      },
      "cell_type": "code",
      "source": [
        "# sampling 80% for train data\n",
        "train_set = titanic_train.sample(frac=0.8, replace=False, random_state=777)\n",
        "# the other 20% is reserverd for cross validation\n",
        "cv_set = titanic_train.loc[ set(titanic_train.index) - set(train_set.index)]\n",
        "\n",
        "cv_set.info()"
      ],
      "execution_count": 94,
      "outputs": [
        {
          "output_type": "stream",
          "text": [
            "<class 'pandas.core.frame.DataFrame'>\n",
            "Int64Index: 178 entries, 1 to 509\n",
            "Data columns (total 13 columns):\n",
            "PassengerId    178 non-null int64\n",
            "Survived       178 non-null int64\n",
            "Pclass         178 non-null int64\n",
            "Name           178 non-null object\n",
            "Sex            178 non-null object\n",
            "Age            178 non-null float64\n",
            "SibSp          178 non-null int64\n",
            "Parch          178 non-null int64\n",
            "Ticket         178 non-null object\n",
            "Fare           178 non-null float64\n",
            "Cabin          46 non-null object\n",
            "Embarked       178 non-null object\n",
            "Title          178 non-null object\n",
            "dtypes: float64(2), int64(5), object(6)\n",
            "memory usage: 19.5+ KB\n"
          ],
          "name": "stdout"
        }
      ]
    },
    {
      "metadata": {
        "id": "SRIgN3SI1PDF",
        "colab_type": "code",
        "colab": {
          "autoexec": {
            "startup": false,
            "wait_interval": 0
          }
        }
      },
      "cell_type": "code",
      "source": [
        "estimator = tf.estimator.LinearClassifier(\n",
        "    feature_columns=build_feature_columns())"
      ],
      "execution_count": 0,
      "outputs": []
    },
    {
      "metadata": {
        "id": "JihmcPXt6JCY",
        "colab_type": "code",
        "colab": {
          "autoexec": {
            "startup": false,
            "wait_interval": 0
          }
        }
      },
      "cell_type": "code",
      "source": [
        "train_input_fn = tf.estimator.inputs.pandas_input_fn(\n",
        "      #x=train_set.drop('Survived', axis=1),\n",
        "      x=train_set[[\"Sex\",\"Pclass\",\"Age\", \"Fare\", \"Title\"]],\n",
        "      y=train_set.Survived,\n",
        "      num_epochs=None, \n",
        "      shuffle=True,\n",
        "      target_column='target',\n",
        ")\n",
        "\n",
        "cv_input_fn = tf.estimator.inputs.pandas_input_fn(\n",
        "      #x=cv_set.drop('Survived', axis=1),\n",
        "      x=cv_set[[\"Sex\",\"Pclass\", \"Age\",\"Fare\", \"Title\"]],\n",
        "      y=cv_set.Survived,\n",
        "      num_epochs=1, \n",
        "      shuffle=False   \n",
        ")"
      ],
      "execution_count": 0,
      "outputs": []
    },
    {
      "metadata": {
        "id": "fcE7fMp66vGa",
        "colab_type": "code",
        "colab": {
          "autoexec": {
            "startup": false,
            "wait_interval": 0
          }
        }
      },
      "cell_type": "code",
      "source": [
        "model = estimator.train(input_fn=train_input_fn, steps=5000)"
      ],
      "execution_count": 0,
      "outputs": []
    },
    {
      "metadata": {
        "id": "sRLDqJf7Fox5",
        "colab_type": "code",
        "colab": {
          "autoexec": {
            "startup": false,
            "wait_interval": 0
          },
          "base_uri": "https://localhost:8080/",
          "height": 68
        },
        "outputId": "55d7f9ea-78e2-43b0-ea44-3b9ccfb7f1c8",
        "executionInfo": {
          "status": "ok",
          "timestamp": 1522991565283,
          "user_tz": 420,
          "elapsed": 1741,
          "user": {
            "displayName": "Дарья Гурова",
            "photoUrl": "//lh4.googleusercontent.com/-_Dn6yogdLX0/AAAAAAAAAAI/AAAAAAAAADg/_KHG3tU8CMY/s50-c-k-no/photo.jpg",
            "userId": "106480726780023275957"
          }
        }
      },
      "cell_type": "code",
      "source": [
        "scores = estimator.evaluate(input_fn=cv_input_fn)\n",
        "print(\"\\nTest Accuracy: {0:f}\\n\".format(scores['accuracy']))"
      ],
      "execution_count": 98,
      "outputs": [
        {
          "output_type": "stream",
          "text": [
            "\n",
            "Test Accuracy: 0.797753\n",
            "\n"
          ],
          "name": "stdout"
        }
      ]
    },
    {
      "metadata": {
        "id": "B_v3K5q-2bCI",
        "colab_type": "code",
        "colab": {
          "autoexec": {
            "startup": false,
            "wait_interval": 0
          },
          "base_uri": "https://localhost:8080/",
          "height": 203
        },
        "outputId": "10202b2b-4270-4be0-e25a-049af7dfe20e",
        "executionInfo": {
          "status": "ok",
          "timestamp": 1522988137820,
          "user_tz": 420,
          "elapsed": 268,
          "user": {
            "displayName": "Дарья Гурова",
            "photoUrl": "//lh4.googleusercontent.com/-_Dn6yogdLX0/AAAAAAAAAAI/AAAAAAAAADg/_KHG3tU8CMY/s50-c-k-no/photo.jpg",
            "userId": "106480726780023275957"
          }
        }
      },
      "cell_type": "code",
      "source": [
        "titanic_test.head()"
      ],
      "execution_count": 32,
      "outputs": [
        {
          "output_type": "execute_result",
          "data": {
            "text/html": [
              "<div>\n",
              "<style scoped>\n",
              "    .dataframe tbody tr th:only-of-type {\n",
              "        vertical-align: middle;\n",
              "    }\n",
              "\n",
              "    .dataframe tbody tr th {\n",
              "        vertical-align: top;\n",
              "    }\n",
              "\n",
              "    .dataframe thead th {\n",
              "        text-align: right;\n",
              "    }\n",
              "</style>\n",
              "<table border=\"1\" class=\"dataframe\">\n",
              "  <thead>\n",
              "    <tr style=\"text-align: right;\">\n",
              "      <th></th>\n",
              "      <th>PassengerId</th>\n",
              "      <th>Pclass</th>\n",
              "      <th>Name</th>\n",
              "      <th>Sex</th>\n",
              "      <th>Age</th>\n",
              "      <th>SibSp</th>\n",
              "      <th>Parch</th>\n",
              "      <th>Ticket</th>\n",
              "      <th>Fare</th>\n",
              "      <th>Cabin</th>\n",
              "      <th>Embarked</th>\n",
              "    </tr>\n",
              "  </thead>\n",
              "  <tbody>\n",
              "    <tr>\n",
              "      <th>0</th>\n",
              "      <td>892</td>\n",
              "      <td>3</td>\n",
              "      <td>Kelly, Mr. James</td>\n",
              "      <td>male</td>\n",
              "      <td>34.5</td>\n",
              "      <td>0</td>\n",
              "      <td>0</td>\n",
              "      <td>330911</td>\n",
              "      <td>7.8</td>\n",
              "      <td>NaN</td>\n",
              "      <td>Q</td>\n",
              "    </tr>\n",
              "    <tr>\n",
              "      <th>1</th>\n",
              "      <td>893</td>\n",
              "      <td>3</td>\n",
              "      <td>Wilkes, Mrs. James (Ellen Needs)</td>\n",
              "      <td>female</td>\n",
              "      <td>47.0</td>\n",
              "      <td>1</td>\n",
              "      <td>0</td>\n",
              "      <td>363272</td>\n",
              "      <td>7.0</td>\n",
              "      <td>NaN</td>\n",
              "      <td>S</td>\n",
              "    </tr>\n",
              "    <tr>\n",
              "      <th>2</th>\n",
              "      <td>894</td>\n",
              "      <td>2</td>\n",
              "      <td>Myles, Mr. Thomas Francis</td>\n",
              "      <td>male</td>\n",
              "      <td>62.0</td>\n",
              "      <td>0</td>\n",
              "      <td>0</td>\n",
              "      <td>240276</td>\n",
              "      <td>9.7</td>\n",
              "      <td>NaN</td>\n",
              "      <td>Q</td>\n",
              "    </tr>\n",
              "    <tr>\n",
              "      <th>3</th>\n",
              "      <td>895</td>\n",
              "      <td>3</td>\n",
              "      <td>Wirz, Mr. Albert</td>\n",
              "      <td>male</td>\n",
              "      <td>27.0</td>\n",
              "      <td>0</td>\n",
              "      <td>0</td>\n",
              "      <td>315154</td>\n",
              "      <td>8.7</td>\n",
              "      <td>NaN</td>\n",
              "      <td>S</td>\n",
              "    </tr>\n",
              "    <tr>\n",
              "      <th>4</th>\n",
              "      <td>896</td>\n",
              "      <td>3</td>\n",
              "      <td>Hirvonen, Mrs. Alexander (Helga E Lindqvist)</td>\n",
              "      <td>female</td>\n",
              "      <td>22.0</td>\n",
              "      <td>1</td>\n",
              "      <td>1</td>\n",
              "      <td>3101298</td>\n",
              "      <td>12.3</td>\n",
              "      <td>NaN</td>\n",
              "      <td>S</td>\n",
              "    </tr>\n",
              "  </tbody>\n",
              "</table>\n",
              "</div>"
            ],
            "text/plain": [
              "   PassengerId  Pclass                                          Name     Sex  \\\n",
              "0          892       3                              Kelly, Mr. James    male   \n",
              "1          893       3              Wilkes, Mrs. James (Ellen Needs)  female   \n",
              "2          894       2                     Myles, Mr. Thomas Francis    male   \n",
              "3          895       3                              Wirz, Mr. Albert    male   \n",
              "4          896       3  Hirvonen, Mrs. Alexander (Helga E Lindqvist)  female   \n",
              "\n",
              "   Age  SibSp  Parch   Ticket  Fare Cabin Embarked  \n",
              "0 34.5      0      0   330911   7.8   NaN        Q  \n",
              "1 47.0      1      0   363272   7.0   NaN        S  \n",
              "2 62.0      0      0   240276   9.7   NaN        Q  \n",
              "3 27.0      0      0   315154   8.7   NaN        S  \n",
              "4 22.0      1      1  3101298  12.3   NaN        S  "
            ]
          },
          "metadata": {
            "tags": []
          },
          "execution_count": 32
        }
      ]
    },
    {
      "metadata": {
        "id": "spFDU3-jt8_6",
        "colab_type": "code",
        "colab": {
          "autoexec": {
            "startup": false,
            "wait_interval": 0
          }
        }
      },
      "cell_type": "code",
      "source": [
        "\n",
        "\n",
        "\n",
        "prediction_input_fn = tf.estimator.inputs.pandas_input_fn(\n",
        "      #x=train_set.drop('Survived', axis=1),\n",
        "      x=titanic_test[[\"Sex\",\"Pclass\", \"Title\", \"Age\", \"Fare\"]],\n",
        "      y=None,\n",
        "      num_epochs=1,\n",
        "      shuffle=False,\n",
        "      target_column='target',\n",
        ")\n",
        "test_predictions = list(model.predict(input_fn=prediction_input_fn))\n",
        "test_predictions = np.array([item['class_ids'][0] for item in test_predictions])\n",
        "\n",
        "result = pd.DataFrame()\n",
        "result['PassengerId'] = titanic_test['PassengerId']\n",
        "result['Survived'] = pd.Series(test_predictions)\n",
        "result.to_csv(path_or_buf=\"~/my_drive/kaggle/predict4.csv\", index=False)"
      ],
      "execution_count": 0,
      "outputs": []
    }
  ]
}